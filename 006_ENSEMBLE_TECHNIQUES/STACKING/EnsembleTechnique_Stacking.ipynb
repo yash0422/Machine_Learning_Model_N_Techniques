{
 "cells": [
  {
   "cell_type": "code",
   "execution_count": 1,
   "id": "02c2e50f",
   "metadata": {},
   "outputs": [],
   "source": [
    "import pandas as pd\n",
    "import matplotlib.pyplot as plt"
   ]
  },
  {
   "cell_type": "code",
   "execution_count": 2,
   "id": "a98c76e8",
   "metadata": {},
   "outputs": [],
   "source": [
    "from sklearn.model_selection import train_test_split\n",
    "from sklearn.preprocessing import StandardScaler\n",
    "from sklearn.linear_model import LogisticRegression\n",
    "from sklearn.neighbors import KNeighborsClassifier\n",
    "from sklearn.naive_bayes import GaussianNB\n",
    "from sklearn.metrics import confusion_matrix\n",
    "from sklearn.metrics import accuracy_score"
   ]
  },
  {
   "cell_type": "code",
   "execution_count": 4,
   "id": "dd561b14",
   "metadata": {
    "collapsed": true
   },
   "outputs": [
    {
     "name": "stdout",
     "output_type": "stream",
     "text": [
      "Collecting mlxtend\n",
      "  Downloading mlxtend-0.19.0-py2.py3-none-any.whl (1.3 MB)\n",
      "Requirement already satisfied: matplotlib>=3.0.0 in c:\\users\\vishal.desai\\anaconda3\\lib\\site-packages (from mlxtend) (3.3.4)\n",
      "Requirement already satisfied: scipy>=1.2.1 in c:\\users\\vishal.desai\\anaconda3\\lib\\site-packages (from mlxtend) (1.6.2)\n",
      "Requirement already satisfied: pandas>=0.24.2 in c:\\users\\vishal.desai\\anaconda3\\lib\\site-packages (from mlxtend) (1.2.4)\n",
      "Requirement already satisfied: setuptools in c:\\users\\vishal.desai\\anaconda3\\lib\\site-packages (from mlxtend) (52.0.0.post20210125)\n",
      "Requirement already satisfied: numpy>=1.16.2 in c:\\users\\vishal.desai\\anaconda3\\lib\\site-packages (from mlxtend) (1.20.1)\n",
      "Requirement already satisfied: joblib>=0.13.2 in c:\\users\\vishal.desai\\anaconda3\\lib\\site-packages (from mlxtend) (1.0.1)\n",
      "Requirement already satisfied: scikit-learn>=0.20.3 in c:\\users\\vishal.desai\\anaconda3\\lib\\site-packages (from mlxtend) (0.24.1)\n",
      "Requirement already satisfied: cycler>=0.10 in c:\\users\\vishal.desai\\anaconda3\\lib\\site-packages (from matplotlib>=3.0.0->mlxtend) (0.10.0)\n",
      "Requirement already satisfied: python-dateutil>=2.1 in c:\\users\\vishal.desai\\anaconda3\\lib\\site-packages (from matplotlib>=3.0.0->mlxtend) (2.8.1)\n",
      "Requirement already satisfied: pillow>=6.2.0 in c:\\users\\vishal.desai\\anaconda3\\lib\\site-packages (from matplotlib>=3.0.0->mlxtend) (8.2.0)\n",
      "Requirement already satisfied: kiwisolver>=1.0.1 in c:\\users\\vishal.desai\\anaconda3\\lib\\site-packages (from matplotlib>=3.0.0->mlxtend) (1.3.1)\n",
      "Requirement already satisfied: pyparsing!=2.0.4,!=2.1.2,!=2.1.6,>=2.0.3 in c:\\users\\vishal.desai\\anaconda3\\lib\\site-packages (from matplotlib>=3.0.0->mlxtend) (2.4.7)\n",
      "Requirement already satisfied: six in c:\\users\\vishal.desai\\anaconda3\\lib\\site-packages (from cycler>=0.10->matplotlib>=3.0.0->mlxtend) (1.15.0)\n",
      "Requirement already satisfied: pytz>=2017.3 in c:\\users\\vishal.desai\\anaconda3\\lib\\site-packages (from pandas>=0.24.2->mlxtend) (2021.1)\n",
      "Requirement already satisfied: threadpoolctl>=2.0.0 in c:\\users\\vishal.desai\\anaconda3\\lib\\site-packages (from scikit-learn>=0.20.3->mlxtend) (2.1.0)\n",
      "Installing collected packages: mlxtend\n",
      "Successfully installed mlxtend-0.19.0\n",
      "Note: you may need to restart the kernel to use updated packages.\n"
     ]
    }
   ],
   "source": [
    "pip install mlxtend"
   ]
  },
  {
   "cell_type": "code",
   "execution_count": 5,
   "id": "3ded7170",
   "metadata": {},
   "outputs": [],
   "source": [
    "from mlxtend.plotting import plot_confusion_matrix\n",
    "from mlxtend.classifier import StackingClassifier"
   ]
  },
  {
   "cell_type": "code",
   "execution_count": 6,
   "id": "2705ef11",
   "metadata": {},
   "outputs": [
    {
     "data": {
      "text/html": [
       "<div>\n",
       "<style scoped>\n",
       "    .dataframe tbody tr th:only-of-type {\n",
       "        vertical-align: middle;\n",
       "    }\n",
       "\n",
       "    .dataframe tbody tr th {\n",
       "        vertical-align: top;\n",
       "    }\n",
       "\n",
       "    .dataframe thead th {\n",
       "        text-align: right;\n",
       "    }\n",
       "</style>\n",
       "<table border=\"1\" class=\"dataframe\">\n",
       "  <thead>\n",
       "    <tr style=\"text-align: right;\">\n",
       "      <th></th>\n",
       "      <th>Unnamed: 0</th>\n",
       "      <th>Age</th>\n",
       "      <th>Sex</th>\n",
       "      <th>ChestPain</th>\n",
       "      <th>RestBP</th>\n",
       "      <th>Chol</th>\n",
       "      <th>Fbs</th>\n",
       "      <th>RestECG</th>\n",
       "      <th>MaxHR</th>\n",
       "      <th>ExAng</th>\n",
       "      <th>Oldpeak</th>\n",
       "      <th>Slope</th>\n",
       "      <th>Ca</th>\n",
       "      <th>Thal</th>\n",
       "      <th>AHD</th>\n",
       "    </tr>\n",
       "  </thead>\n",
       "  <tbody>\n",
       "    <tr>\n",
       "      <th>0</th>\n",
       "      <td>1</td>\n",
       "      <td>63</td>\n",
       "      <td>1</td>\n",
       "      <td>typical</td>\n",
       "      <td>145</td>\n",
       "      <td>233</td>\n",
       "      <td>1</td>\n",
       "      <td>2</td>\n",
       "      <td>150</td>\n",
       "      <td>0</td>\n",
       "      <td>2.3</td>\n",
       "      <td>3</td>\n",
       "      <td>0.0</td>\n",
       "      <td>fixed</td>\n",
       "      <td>No</td>\n",
       "    </tr>\n",
       "    <tr>\n",
       "      <th>1</th>\n",
       "      <td>2</td>\n",
       "      <td>67</td>\n",
       "      <td>1</td>\n",
       "      <td>asymptomatic</td>\n",
       "      <td>160</td>\n",
       "      <td>286</td>\n",
       "      <td>0</td>\n",
       "      <td>2</td>\n",
       "      <td>108</td>\n",
       "      <td>1</td>\n",
       "      <td>1.5</td>\n",
       "      <td>2</td>\n",
       "      <td>3.0</td>\n",
       "      <td>normal</td>\n",
       "      <td>Yes</td>\n",
       "    </tr>\n",
       "    <tr>\n",
       "      <th>2</th>\n",
       "      <td>3</td>\n",
       "      <td>67</td>\n",
       "      <td>1</td>\n",
       "      <td>asymptomatic</td>\n",
       "      <td>120</td>\n",
       "      <td>229</td>\n",
       "      <td>0</td>\n",
       "      <td>2</td>\n",
       "      <td>129</td>\n",
       "      <td>1</td>\n",
       "      <td>2.6</td>\n",
       "      <td>2</td>\n",
       "      <td>2.0</td>\n",
       "      <td>reversable</td>\n",
       "      <td>Yes</td>\n",
       "    </tr>\n",
       "    <tr>\n",
       "      <th>3</th>\n",
       "      <td>4</td>\n",
       "      <td>37</td>\n",
       "      <td>1</td>\n",
       "      <td>nonanginal</td>\n",
       "      <td>130</td>\n",
       "      <td>250</td>\n",
       "      <td>0</td>\n",
       "      <td>0</td>\n",
       "      <td>187</td>\n",
       "      <td>0</td>\n",
       "      <td>3.5</td>\n",
       "      <td>3</td>\n",
       "      <td>0.0</td>\n",
       "      <td>normal</td>\n",
       "      <td>No</td>\n",
       "    </tr>\n",
       "    <tr>\n",
       "      <th>4</th>\n",
       "      <td>5</td>\n",
       "      <td>41</td>\n",
       "      <td>0</td>\n",
       "      <td>nontypical</td>\n",
       "      <td>130</td>\n",
       "      <td>204</td>\n",
       "      <td>0</td>\n",
       "      <td>2</td>\n",
       "      <td>172</td>\n",
       "      <td>0</td>\n",
       "      <td>1.4</td>\n",
       "      <td>1</td>\n",
       "      <td>0.0</td>\n",
       "      <td>normal</td>\n",
       "      <td>No</td>\n",
       "    </tr>\n",
       "  </tbody>\n",
       "</table>\n",
       "</div>"
      ],
      "text/plain": [
       "   Unnamed: 0  Age  Sex     ChestPain  RestBP  Chol  Fbs  RestECG  MaxHR  \\\n",
       "0           1   63    1       typical     145   233    1        2    150   \n",
       "1           2   67    1  asymptomatic     160   286    0        2    108   \n",
       "2           3   67    1  asymptomatic     120   229    0        2    129   \n",
       "3           4   37    1    nonanginal     130   250    0        0    187   \n",
       "4           5   41    0    nontypical     130   204    0        2    172   \n",
       "\n",
       "   ExAng  Oldpeak  Slope   Ca        Thal  AHD  \n",
       "0      0      2.3      3  0.0       fixed   No  \n",
       "1      1      1.5      2  3.0      normal  Yes  \n",
       "2      1      2.6      2  2.0  reversable  Yes  \n",
       "3      0      3.5      3  0.0      normal   No  \n",
       "4      0      1.4      1  0.0      normal   No  "
      ]
     },
     "execution_count": 6,
     "metadata": {},
     "output_type": "execute_result"
    }
   ],
   "source": [
    "df = pd.read_csv('heart.csv')    # loading the dataset\n",
    "df.head()"
   ]
  },
  {
   "cell_type": "code",
   "execution_count": 10,
   "id": "66f42549",
   "metadata": {},
   "outputs": [],
   "source": [
    "df = df.drop(['Unnamed: 0'], axis=1)"
   ]
  },
  {
   "cell_type": "code",
   "execution_count": 34,
   "id": "7d9100da",
   "metadata": {
    "collapsed": true
   },
   "outputs": [
    {
     "data": {
      "text/plain": [
       "array(['fixed', 'normal', 'reversable'], dtype=object)"
      ]
     },
     "execution_count": 34,
     "metadata": {},
     "output_type": "execute_result"
    }
   ],
   "source": [
    "df.Thal.unique()"
   ]
  },
  {
   "cell_type": "code",
   "execution_count": 25,
   "id": "65b26f5d",
   "metadata": {
    "collapsed": true
   },
   "outputs": [
    {
     "data": {
      "text/plain": [
       "6"
      ]
     },
     "execution_count": 25,
     "metadata": {},
     "output_type": "execute_result"
    }
   ],
   "source": [
    "df.isnull().sum().sum()"
   ]
  },
  {
   "cell_type": "code",
   "execution_count": 33,
   "id": "b272e2a3",
   "metadata": {
    "collapsed": true
   },
   "outputs": [
    {
     "data": {
      "text/plain": [
       "False"
      ]
     },
     "execution_count": 33,
     "metadata": {},
     "output_type": "execute_result"
    }
   ],
   "source": [
    "df.isnull().values.any()"
   ]
  },
  {
   "cell_type": "code",
   "execution_count": 27,
   "id": "24e58eaf",
   "metadata": {
    "collapsed": true
   },
   "outputs": [
    {
     "data": {
      "text/plain": [
       "2"
      ]
     },
     "execution_count": 27,
     "metadata": {},
     "output_type": "execute_result"
    }
   ],
   "source": [
    "df['Thal'].isnull().sum()"
   ]
  },
  {
   "cell_type": "code",
   "execution_count": 32,
   "id": "f3b83609",
   "metadata": {},
   "outputs": [],
   "source": [
    "df = df.dropna()"
   ]
  },
  {
   "cell_type": "code",
   "execution_count": 17,
   "id": "968ad330",
   "metadata": {},
   "outputs": [],
   "source": [
    "df = df.rename(columns={\"AHD\": \"target\"})"
   ]
  },
  {
   "cell_type": "code",
   "execution_count": 15,
   "id": "d8db7513",
   "metadata": {},
   "outputs": [],
   "source": [
    "df['ChestPain'].replace(['typical', 'asymptomatic', 'nonanginal', 'nontypical'],\n",
    "                        [0, 1, 2, 3], inplace=True)"
   ]
  },
  {
   "cell_type": "code",
   "execution_count": 20,
   "id": "b82ea903",
   "metadata": {},
   "outputs": [],
   "source": [
    "df['target'].replace(['No', 'Yes'], [0, 1], inplace=True)"
   ]
  },
  {
   "cell_type": "code",
   "execution_count": 35,
   "id": "f28f9bfc",
   "metadata": {
    "collapsed": true
   },
   "outputs": [
    {
     "name": "stderr",
     "output_type": "stream",
     "text": [
      "C:\\Users\\vishal.desai\\Anaconda3\\lib\\site-packages\\pandas\\core\\series.py:4509: SettingWithCopyWarning: \n",
      "A value is trying to be set on a copy of a slice from a DataFrame\n",
      "\n",
      "See the caveats in the documentation: https://pandas.pydata.org/pandas-docs/stable/user_guide/indexing.html#returning-a-view-versus-a-copy\n",
      "  return super().replace(\n"
     ]
    }
   ],
   "source": [
    "df['Thal'].replace(['fixed', 'normal', 'reversable'], [0, 1, 2], inplace=True)"
   ]
  },
  {
   "cell_type": "code",
   "execution_count": 38,
   "id": "e163e70e",
   "metadata": {},
   "outputs": [],
   "source": [
    "# Creating X and y for training\n",
    "X = df.drop('target', axis = 1)\n",
    "y = df['target']"
   ]
  },
  {
   "cell_type": "code",
   "execution_count": 39,
   "id": "065acf22",
   "metadata": {},
   "outputs": [],
   "source": [
    "# 20 % training dataset is considered for testing\n",
    "X_train, X_test, y_train, y_test = train_test_split(X, y, test_size = 0.2, random_state = 42)"
   ]
  },
  {
   "cell_type": "markdown",
   "id": "47b083f6",
   "metadata": {},
   "source": [
    "##### SCALING FEW COLUMNS"
   ]
  },
  {
   "cell_type": "code",
   "execution_count": 40,
   "id": "ed73e907",
   "metadata": {},
   "outputs": [
    {
     "name": "stdout",
     "output_type": "stream",
     "text": [
      "          Age  Sex  ChestPain    RestBP      Chol  Fbs  RestECG  MaxHR  ExAng  \\\n",
      "277 -1.741679    0          2  0.319284 -0.544213    0        0    152      0   \n",
      "262  0.601114    0          0  0.985981 -0.161771    0        0    171      0   \n",
      "30   1.605169    0          0  0.430400 -0.180893    0        0    151      0   \n",
      "22   0.377991    1          3 -0.680763  0.679601    0        2    160      0   \n",
      "281 -0.849186    1          2 -0.125182  0.086816    0        0    179      0   \n",
      "\n",
      "      Oldpeak  Slope   Ca      Thal  \n",
      "277 -0.915041      2  0.0 -0.603035  \n",
      "262 -0.121634      1  0.0 -0.603035  \n",
      "30   0.671774      1  2.0 -0.603035  \n",
      "22   0.671774      2  0.0 -0.603035  \n",
      "281 -0.915041      1  0.0 -0.603035  \n"
     ]
    },
    {
     "name": "stderr",
     "output_type": "stream",
     "text": [
      "<ipython-input-40-28d9508e7817>:6: SettingWithCopyWarning: \n",
      "A value is trying to be set on a copy of a slice from a DataFrame.\n",
      "Try using .loc[row_indexer,col_indexer] = value instead\n",
      "\n",
      "See the caveats in the documentation: https://pandas.pydata.org/pandas-docs/stable/user_guide/indexing.html#returning-a-view-versus-a-copy\n",
      "  X_train[var_transform] = sc.fit_transform(X_train[var_transform])   # standardizing training data\n",
      "C:\\Users\\vishal.desai\\Anaconda3\\lib\\site-packages\\pandas\\core\\indexing.py:1738: SettingWithCopyWarning: \n",
      "A value is trying to be set on a copy of a slice from a DataFrame.\n",
      "Try using .loc[row_indexer,col_indexer] = value instead\n",
      "\n",
      "See the caveats in the documentation: https://pandas.pydata.org/pandas-docs/stable/user_guide/indexing.html#returning-a-view-versus-a-copy\n",
      "  self._setitem_single_column(loc, value[:, i].tolist(), pi)\n",
      "<ipython-input-40-28d9508e7817>:7: SettingWithCopyWarning: \n",
      "A value is trying to be set on a copy of a slice from a DataFrame.\n",
      "Try using .loc[row_indexer,col_indexer] = value instead\n",
      "\n",
      "See the caveats in the documentation: https://pandas.pydata.org/pandas-docs/stable/user_guide/indexing.html#returning-a-view-versus-a-copy\n",
      "  X_test[var_transform] = sc.transform(X_test[var_transform])            # standardizing test data\n",
      "C:\\Users\\vishal.desai\\Anaconda3\\lib\\site-packages\\pandas\\core\\indexing.py:1738: SettingWithCopyWarning: \n",
      "A value is trying to be set on a copy of a slice from a DataFrame.\n",
      "Try using .loc[row_indexer,col_indexer] = value instead\n",
      "\n",
      "See the caveats in the documentation: https://pandas.pydata.org/pandas-docs/stable/user_guide/indexing.html#returning-a-view-versus-a-copy\n",
      "  self._setitem_single_column(loc, value[:, i].tolist(), pi)\n"
     ]
    }
   ],
   "source": [
    "# initializing sc object\n",
    "sc = StandardScaler()\n",
    "\n",
    "# variables that needed to be transformed\n",
    "var_transform = ['Thal', 'Age', 'RestBP', 'Oldpeak', 'Chol']\n",
    "X_train[var_transform] = sc.fit_transform(X_train[var_transform])   # standardizing training data\n",
    "X_test[var_transform] = sc.transform(X_test[var_transform])            # standardizing test data\n",
    "print(X_train.head())"
   ]
  },
  {
   "cell_type": "code",
   "execution_count": 41,
   "id": "cf4637b1",
   "metadata": {},
   "outputs": [
    {
     "data": {
      "text/html": [
       "<div>\n",
       "<style scoped>\n",
       "    .dataframe tbody tr th:only-of-type {\n",
       "        vertical-align: middle;\n",
       "    }\n",
       "\n",
       "    .dataframe tbody tr th {\n",
       "        vertical-align: top;\n",
       "    }\n",
       "\n",
       "    .dataframe thead th {\n",
       "        text-align: right;\n",
       "    }\n",
       "</style>\n",
       "<table border=\"1\" class=\"dataframe\">\n",
       "  <thead>\n",
       "    <tr style=\"text-align: right;\">\n",
       "      <th></th>\n",
       "      <th>Age</th>\n",
       "      <th>Sex</th>\n",
       "      <th>ChestPain</th>\n",
       "      <th>RestBP</th>\n",
       "      <th>Chol</th>\n",
       "      <th>Fbs</th>\n",
       "      <th>RestECG</th>\n",
       "      <th>MaxHR</th>\n",
       "      <th>ExAng</th>\n",
       "      <th>Oldpeak</th>\n",
       "      <th>Slope</th>\n",
       "      <th>Ca</th>\n",
       "      <th>Thal</th>\n",
       "    </tr>\n",
       "  </thead>\n",
       "  <tbody>\n",
       "    <tr>\n",
       "      <th>277</th>\n",
       "      <td>-1.741679</td>\n",
       "      <td>0</td>\n",
       "      <td>2</td>\n",
       "      <td>0.319284</td>\n",
       "      <td>-0.544213</td>\n",
       "      <td>0</td>\n",
       "      <td>0</td>\n",
       "      <td>152</td>\n",
       "      <td>0</td>\n",
       "      <td>-0.915041</td>\n",
       "      <td>2</td>\n",
       "      <td>0.0</td>\n",
       "      <td>-0.603035</td>\n",
       "    </tr>\n",
       "    <tr>\n",
       "      <th>262</th>\n",
       "      <td>0.601114</td>\n",
       "      <td>0</td>\n",
       "      <td>0</td>\n",
       "      <td>0.985981</td>\n",
       "      <td>-0.161771</td>\n",
       "      <td>0</td>\n",
       "      <td>0</td>\n",
       "      <td>171</td>\n",
       "      <td>0</td>\n",
       "      <td>-0.121634</td>\n",
       "      <td>1</td>\n",
       "      <td>0.0</td>\n",
       "      <td>-0.603035</td>\n",
       "    </tr>\n",
       "    <tr>\n",
       "      <th>30</th>\n",
       "      <td>1.605169</td>\n",
       "      <td>0</td>\n",
       "      <td>0</td>\n",
       "      <td>0.430400</td>\n",
       "      <td>-0.180893</td>\n",
       "      <td>0</td>\n",
       "      <td>0</td>\n",
       "      <td>151</td>\n",
       "      <td>0</td>\n",
       "      <td>0.671774</td>\n",
       "      <td>1</td>\n",
       "      <td>2.0</td>\n",
       "      <td>-0.603035</td>\n",
       "    </tr>\n",
       "    <tr>\n",
       "      <th>22</th>\n",
       "      <td>0.377991</td>\n",
       "      <td>1</td>\n",
       "      <td>3</td>\n",
       "      <td>-0.680763</td>\n",
       "      <td>0.679601</td>\n",
       "      <td>0</td>\n",
       "      <td>2</td>\n",
       "      <td>160</td>\n",
       "      <td>0</td>\n",
       "      <td>0.671774</td>\n",
       "      <td>2</td>\n",
       "      <td>0.0</td>\n",
       "      <td>-0.603035</td>\n",
       "    </tr>\n",
       "    <tr>\n",
       "      <th>281</th>\n",
       "      <td>-0.849186</td>\n",
       "      <td>1</td>\n",
       "      <td>2</td>\n",
       "      <td>-0.125182</td>\n",
       "      <td>0.086816</td>\n",
       "      <td>0</td>\n",
       "      <td>0</td>\n",
       "      <td>179</td>\n",
       "      <td>0</td>\n",
       "      <td>-0.915041</td>\n",
       "      <td>1</td>\n",
       "      <td>0.0</td>\n",
       "      <td>-0.603035</td>\n",
       "    </tr>\n",
       "    <tr>\n",
       "      <th>...</th>\n",
       "      <td>...</td>\n",
       "      <td>...</td>\n",
       "      <td>...</td>\n",
       "      <td>...</td>\n",
       "      <td>...</td>\n",
       "      <td>...</td>\n",
       "      <td>...</td>\n",
       "      <td>...</td>\n",
       "      <td>...</td>\n",
       "      <td>...</td>\n",
       "      <td>...</td>\n",
       "      <td>...</td>\n",
       "      <td>...</td>\n",
       "    </tr>\n",
       "    <tr>\n",
       "      <th>190</th>\n",
       "      <td>-0.514501</td>\n",
       "      <td>1</td>\n",
       "      <td>2</td>\n",
       "      <td>-0.180740</td>\n",
       "      <td>-1.003143</td>\n",
       "      <td>0</td>\n",
       "      <td>0</td>\n",
       "      <td>163</td>\n",
       "      <td>0</td>\n",
       "      <td>-0.915041</td>\n",
       "      <td>1</td>\n",
       "      <td>0.0</td>\n",
       "      <td>-0.603035</td>\n",
       "    </tr>\n",
       "    <tr>\n",
       "      <th>71</th>\n",
       "      <td>1.382045</td>\n",
       "      <td>1</td>\n",
       "      <td>1</td>\n",
       "      <td>-0.402972</td>\n",
       "      <td>0.105938</td>\n",
       "      <td>1</td>\n",
       "      <td>0</td>\n",
       "      <td>163</td>\n",
       "      <td>0</td>\n",
       "      <td>-0.738729</td>\n",
       "      <td>2</td>\n",
       "      <td>2.0</td>\n",
       "      <td>1.118884</td>\n",
       "    </tr>\n",
       "    <tr>\n",
       "      <th>107</th>\n",
       "      <td>0.266430</td>\n",
       "      <td>1</td>\n",
       "      <td>2</td>\n",
       "      <td>-0.236298</td>\n",
       "      <td>-0.372114</td>\n",
       "      <td>0</td>\n",
       "      <td>2</td>\n",
       "      <td>150</td>\n",
       "      <td>0</td>\n",
       "      <td>-0.562416</td>\n",
       "      <td>2</td>\n",
       "      <td>1.0</td>\n",
       "      <td>1.118884</td>\n",
       "    </tr>\n",
       "    <tr>\n",
       "      <th>274</th>\n",
       "      <td>0.489553</td>\n",
       "      <td>1</td>\n",
       "      <td>0</td>\n",
       "      <td>0.097051</td>\n",
       "      <td>-0.850167</td>\n",
       "      <td>0</td>\n",
       "      <td>0</td>\n",
       "      <td>162</td>\n",
       "      <td>0</td>\n",
       "      <td>-0.209790</td>\n",
       "      <td>1</td>\n",
       "      <td>2.0</td>\n",
       "      <td>-0.603035</td>\n",
       "    </tr>\n",
       "    <tr>\n",
       "      <th>103</th>\n",
       "      <td>1.828292</td>\n",
       "      <td>0</td>\n",
       "      <td>2</td>\n",
       "      <td>-1.236345</td>\n",
       "      <td>0.316281</td>\n",
       "      <td>1</td>\n",
       "      <td>2</td>\n",
       "      <td>130</td>\n",
       "      <td>0</td>\n",
       "      <td>-0.915041</td>\n",
       "      <td>1</td>\n",
       "      <td>1.0</td>\n",
       "      <td>-0.603035</td>\n",
       "    </tr>\n",
       "  </tbody>\n",
       "</table>\n",
       "<p>237 rows × 13 columns</p>\n",
       "</div>"
      ],
      "text/plain": [
       "          Age  Sex  ChestPain    RestBP      Chol  Fbs  RestECG  MaxHR  ExAng  \\\n",
       "277 -1.741679    0          2  0.319284 -0.544213    0        0    152      0   \n",
       "262  0.601114    0          0  0.985981 -0.161771    0        0    171      0   \n",
       "30   1.605169    0          0  0.430400 -0.180893    0        0    151      0   \n",
       "22   0.377991    1          3 -0.680763  0.679601    0        2    160      0   \n",
       "281 -0.849186    1          2 -0.125182  0.086816    0        0    179      0   \n",
       "..        ...  ...        ...       ...       ...  ...      ...    ...    ...   \n",
       "190 -0.514501    1          2 -0.180740 -1.003143    0        0    163      0   \n",
       "71   1.382045    1          1 -0.402972  0.105938    1        0    163      0   \n",
       "107  0.266430    1          2 -0.236298 -0.372114    0        2    150      0   \n",
       "274  0.489553    1          0  0.097051 -0.850167    0        0    162      0   \n",
       "103  1.828292    0          2 -1.236345  0.316281    1        2    130      0   \n",
       "\n",
       "      Oldpeak  Slope   Ca      Thal  \n",
       "277 -0.915041      2  0.0 -0.603035  \n",
       "262 -0.121634      1  0.0 -0.603035  \n",
       "30   0.671774      1  2.0 -0.603035  \n",
       "22   0.671774      2  0.0 -0.603035  \n",
       "281 -0.915041      1  0.0 -0.603035  \n",
       "..        ...    ...  ...       ...  \n",
       "190 -0.915041      1  0.0 -0.603035  \n",
       "71  -0.738729      2  2.0  1.118884  \n",
       "107 -0.562416      2  1.0  1.118884  \n",
       "274 -0.209790      1  2.0 -0.603035  \n",
       "103 -0.915041      1  1.0 -0.603035  \n",
       "\n",
       "[237 rows x 13 columns]"
      ]
     },
     "execution_count": 41,
     "metadata": {},
     "output_type": "execute_result"
    }
   ],
   "source": [
    "pd.DataFrame(X_train)"
   ]
  },
  {
   "cell_type": "markdown",
   "id": "93bd1d04",
   "metadata": {},
   "source": [
    "#### INITIALIZING KNeighborClassifier and GaussianNaiveBayes"
   ]
  },
  {
   "cell_type": "code",
   "execution_count": 42,
   "id": "b6db9958",
   "metadata": {},
   "outputs": [],
   "source": [
    "KNC = KNeighborsClassifier()   # initialising KNeighbors Classifier\n",
    "NB = GaussianNB()              # initialising Naive Bayes"
   ]
  },
  {
   "cell_type": "markdown",
   "id": "87deefcd",
   "metadata": {},
   "source": [
    "##### Training KNeighborsClassifier"
   ]
  },
  {
   "cell_type": "code",
   "execution_count": 43,
   "id": "7ecd7d06",
   "metadata": {},
   "outputs": [],
   "source": [
    "# Training KNeighborsClassifier\n",
    "model_kNeighborsClassifier = KNC.fit(X_train, y_train)   # fitting Training Set\n",
    "pred_knc = model_kNeighborsClassifier.predict(X_test)   # Predicting on test dataset"
   ]
  },
  {
   "cell_type": "code",
   "execution_count": 44,
   "id": "ece45879",
   "metadata": {},
   "outputs": [
    {
     "name": "stdout",
     "output_type": "stream",
     "text": [
      "accuracy score of KNeighbors Classifier is: 70.0\n"
     ]
    }
   ],
   "source": [
    "# Evaluation of KNeighborsClassifier \n",
    "acc_knc = accuracy_score(y_test, pred_knc)  # evaluating accuracy score\n",
    "print('accuracy score of KNeighbors Classifier is:', acc_knc * 100)"
   ]
  },
  {
   "cell_type": "markdown",
   "id": "888d0356",
   "metadata": {},
   "source": [
    "##### Training Naive Bayes Classifier"
   ]
  },
  {
   "cell_type": "code",
   "execution_count": 45,
   "id": "6b9d65cd",
   "metadata": {},
   "outputs": [],
   "source": [
    "model_NaiveBayes = NB.fit(X_train, y_train)\n",
    "pred_nb = model_NaiveBayes.predict(X_test)"
   ]
  },
  {
   "cell_type": "code",
   "execution_count": 46,
   "id": "f7fd0c5f",
   "metadata": {},
   "outputs": [
    {
     "name": "stdout",
     "output_type": "stream",
     "text": [
      "Accuracy of Naive Bayes Classifier: 90.0\n"
     ]
    }
   ],
   "source": [
    "acc_nb = accuracy_score(y_test, pred_nb)\n",
    "print('Accuracy of Naive Bayes Classifier:', acc_nb * 100)"
   ]
  },
  {
   "cell_type": "markdown",
   "id": "09617306",
   "metadata": {},
   "source": [
    "##### Implementing Stacking Classifier "
   ]
  },
  {
   "cell_type": "code",
   "execution_count": 47,
   "id": "5c725306",
   "metadata": {},
   "outputs": [],
   "source": [
    "lr = LogisticRegression()  # defining meta-classifier\n",
    "\n",
    "clf_stack = StackingClassifier(classifiers = [KNC, NB],\n",
    "                               meta_classifier = lr,\n",
    "                               use_probas = True,\n",
    "                               use_features_in_secondary = True)\n",
    "\n",
    "# use_probas=True indicates the Stacking Classifier uses the prediction probabilities\n",
    "# as an input instead of using predictions classes.\n",
    "# use_features_in_secondary = True indicates Stacking Classifier not only take predictions\n",
    "# as an input but also uses features in the dataset to predict on new data."
   ]
  },
  {
   "cell_type": "code",
   "execution_count": 48,
   "id": "2fbbea9a",
   "metadata": {},
   "outputs": [
    {
     "name": "stderr",
     "output_type": "stream",
     "text": [
      "C:\\Users\\vishal.desai\\Anaconda3\\lib\\site-packages\\sklearn\\linear_model\\_logistic.py:763: ConvergenceWarning: lbfgs failed to converge (status=1):\n",
      "STOP: TOTAL NO. of ITERATIONS REACHED LIMIT.\n",
      "\n",
      "Increase the number of iterations (max_iter) or scale the data as shown in:\n",
      "    https://scikit-learn.org/stable/modules/preprocessing.html\n",
      "Please also refer to the documentation for alternative solver options:\n",
      "    https://scikit-learn.org/stable/modules/linear_model.html#logistic-regression\n",
      "  n_iter_i = _check_optimize_result(\n"
     ]
    }
   ],
   "source": [
    "model_stack = clf_stack.fit(X_train, y_train)   # training of stacked model\n",
    "pred_stack = model_stack.predict(X_test)       # predictions on test data using stacked model"
   ]
  },
  {
   "cell_type": "markdown",
   "id": "53c1716a",
   "metadata": {},
   "source": [
    "##### Evaluating Stacking Classifier"
   ]
  },
  {
   "cell_type": "code",
   "execution_count": 49,
   "id": "5416fc2f",
   "metadata": {},
   "outputs": [
    {
     "name": "stdout",
     "output_type": "stream",
     "text": [
      "accuracy score of Stacked model: 83.33333333333334\n"
     ]
    }
   ],
   "source": [
    "acc_stack = accuracy_score(y_test, pred_stack)  # evaluating accuracy\n",
    "print('accuracy score of Stacked model:', acc_stack * 100)\n",
    "\n",
    "# Our both individual models scores an accuracy of nearly 80% and\n",
    "# our Stacked model got an accuracy of nearly 84%.\n",
    "# By Combining two individual models we got a significant performance improvement."
   ]
  },
  {
   "cell_type": "code",
   "execution_count": 50,
   "id": "c996fc81",
   "metadata": {},
   "outputs": [
    {
     "name": "stderr",
     "output_type": "stream",
     "text": [
      "C:\\Users\\vishal.desai\\Anaconda3\\lib\\site-packages\\sklearn\\linear_model\\_logistic.py:763: ConvergenceWarning: lbfgs failed to converge (status=1):\n",
      "STOP: TOTAL NO. of ITERATIONS REACHED LIMIT.\n",
      "\n",
      "Increase the number of iterations (max_iter) or scale the data as shown in:\n",
      "    https://scikit-learn.org/stable/modules/preprocessing.html\n",
      "Please also refer to the documentation for alternative solver options:\n",
      "    https://scikit-learn.org/stable/modules/linear_model.html#logistic-regression\n",
      "  n_iter_i = _check_optimize_result(\n"
     ]
    }
   ],
   "source": [
    "model_stack = clf_stack.fit(X_train, y_train)   # training of stacked model\n",
    "pred_stack = model_stack.predict(X_test)       # predictions on test data using stacked model"
   ]
  },
  {
   "cell_type": "code",
   "execution_count": 51,
   "id": "7598a042",
   "metadata": {},
   "outputs": [
    {
     "name": "stdout",
     "output_type": "stream",
     "text": [
      "accuracy score of Stacked model: 83.33333333333334\n"
     ]
    }
   ],
   "source": [
    "acc_stack = accuracy_score(y_test, pred_stack)  # evaluating accuracy\n",
    "print('accuracy score of Stacked model:', acc_stack * 100)"
   ]
  },
  {
   "cell_type": "code",
   "execution_count": null,
   "id": "cb1d13e4",
   "metadata": {},
   "outputs": [],
   "source": []
  }
 ],
 "metadata": {
  "kernelspec": {
   "display_name": "Python 3",
   "language": "python",
   "name": "python3"
  },
  "language_info": {
   "codemirror_mode": {
    "name": "ipython",
    "version": 3
   },
   "file_extension": ".py",
   "mimetype": "text/x-python",
   "name": "python",
   "nbconvert_exporter": "python",
   "pygments_lexer": "ipython3",
   "version": "3.8.8"
  }
 },
 "nbformat": 4,
 "nbformat_minor": 5
}
