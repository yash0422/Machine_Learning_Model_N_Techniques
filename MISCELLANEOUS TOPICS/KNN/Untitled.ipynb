{
 "cells": [
  {
   "cell_type": "code",
   "execution_count": 1,
   "id": "1f066953",
   "metadata": {},
   "outputs": [],
   "source": [
    "\n",
    "def minpositive(a):\n",
    "    A = set(a)\n",
    "    ans = 1\n",
    "    while ans in A:\n",
    "       ans += 1\n",
    "    return ans"
   ]
  },
  {
   "cell_type": "code",
   "execution_count": 4,
   "id": "30472c28",
   "metadata": {},
   "outputs": [],
   "source": [
    "a = [1, 3, 6, 4, 1, 2]"
   ]
  },
  {
   "cell_type": "code",
   "execution_count": null,
   "id": "30e48780",
   "metadata": {},
   "outputs": [],
   "source": []
  },
  {
   "cell_type": "code",
   "execution_count": 7,
   "id": "0bed9414",
   "metadata": {},
   "outputs": [
    {
     "name": "stdout",
     "output_type": "stream",
     "text": [
      "5\n"
     ]
    }
   ],
   "source": [
    "print(minpositive(a))"
   ]
  },
  {
   "cell_type": "code",
   "execution_count": 8,
   "id": "f81af6d9",
   "metadata": {},
   "outputs": [
    {
     "name": "stdout",
     "output_type": "stream",
     "text": [
      "5\n",
      "4\n",
      "1\n"
     ]
    }
   ],
   "source": [
    "def solution(arr: list) -> int():\n",
    "    \"\"\"\n",
    "    Returns the smallest positive integer (greater than 0) that does not occur in arr.\n",
    "    \"\"\"\n",
    "    arr.sort()\n",
    "    N = len(arr)\n",
    "    X = 0\n",
    "    for i in range(1, N+1):\n",
    "        if i not in arr:\n",
    "            return i\n",
    "        X = i\n",
    "    return X + 1\n",
    "    \n",
    "print(solution([1, 3, 6, 4, 1, 2]))\n",
    "print(solution([1, 2, 3]))\n",
    "print(solution([-1, -3]))"
   ]
  },
  {
   "cell_type": "code",
   "execution_count": 9,
   "id": "328ba886",
   "metadata": {},
   "outputs": [
    {
     "name": "stdout",
     "output_type": "stream",
     "text": [
      "Test Case is [2, 3, 7, 6, 8, -1, -10, 15]\n",
      "Solution is 1\n",
      "****************************************************************************************\n",
      "Test Case is [2, 3, -7, 6, 8, 1, -10, 15]\n",
      "Solution is 4\n",
      "****************************************************************************************\n",
      "Test Case is [1, 1, 0, -1, -2]\n",
      "Solution is 2\n",
      "****************************************************************************************\n"
     ]
    }
   ],
   "source": [
    "def solution(A):\n",
    "    # write your code in Python 3.6\n",
    "    max_a = max(A)\n",
    "    possible_numbers = set(range(1, max_a + 2))\n",
    "    min_list = possible_numbers - set(A)\n",
    "    if len(min_list) > 0:\n",
    "        return min(min_list)\n",
    "    elif max_a < 0:\n",
    "        return 1\n",
    "\n",
    "for test_case in [\n",
    "        [2, 3, 7, 6, 8, -1, -10, 15],\n",
    "        [2, 3, -7, 6, 8, 1, -10, 15],\n",
    "        [1, 1, 0, -1, -2],\n",
    "    ]:\n",
    "    print(f\"Test Case is {test_case}\")\n",
    "    print(f\"Solution is {solution(test_case)}\")\n",
    "    print(f\"{'*'*88}\")"
   ]
  },
  {
   "cell_type": "code",
   "execution_count": 11,
   "id": "ddfca212",
   "metadata": {},
   "outputs": [],
   "source": [
    "A = [1, 3, 6, 4, 1, 2]"
   ]
  },
  {
   "cell_type": "code",
   "execution_count": 12,
   "id": "9075b7a9",
   "metadata": {},
   "outputs": [],
   "source": [
    "def solution(A):\n",
    "    # sort the list and create a set\n",
    "    # this will remove all duplicates\n",
    "    A = set(sorted(A))\n",
    "    \n",
    "    # create the default answer of 1\n",
    "    answer = 1\n",
    "    \n",
    "    # loop through all items in set\n",
    "    for i in A:\n",
    "        # if the same as answer\n",
    "        if i == answer:\n",
    "            # increment\n",
    "            answer+=1\n",
    "    \n",
    "    \n",
    "    # return the answer\n",
    "    return answer"
   ]
  },
  {
   "cell_type": "code",
   "execution_count": 14,
   "id": "8cc9915e",
   "metadata": {},
   "outputs": [
    {
     "data": {
      "text/plain": [
       "5"
      ]
     },
     "execution_count": 14,
     "metadata": {},
     "output_type": "execute_result"
    }
   ],
   "source": [
    "solution(A)"
   ]
  },
  {
   "cell_type": "code",
   "execution_count": null,
   "id": "1fc874e1",
   "metadata": {},
   "outputs": [],
   "source": []
  }
 ],
 "metadata": {
  "kernelspec": {
   "display_name": "Python 3",
   "language": "python",
   "name": "python3"
  },
  "language_info": {
   "codemirror_mode": {
    "name": "ipython",
    "version": 3
   },
   "file_extension": ".py",
   "mimetype": "text/x-python",
   "name": "python",
   "nbconvert_exporter": "python",
   "pygments_lexer": "ipython3",
   "version": "3.8.8"
  }
 },
 "nbformat": 4,
 "nbformat_minor": 5
}
